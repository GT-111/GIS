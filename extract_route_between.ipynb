{
 "cells": [
  {
   "cell_type": "code",
   "execution_count": null,
   "metadata": {},
   "outputs": [],
   "source": [
    "import pandas as pd\n",
    "from tqdm import tqdm\n",
    "from multiprocessing import Pool\n",
    "from functools import partial\n",
    "import utils.data_preprocess_utils as dpu\n",
    "import geopandas as gpd\n",
    "from utils.data_preprocess_utils import get_config, get_all_files\n",
    "from easydict import EasyDict"
   ]
  },
  {
   "cell_type": "code",
   "execution_count": 4,
   "metadata": {},
   "outputs": [
    {
     "name": "stderr",
     "output_type": "stream",
     "text": [
      "Processing files: 100%|██████████| 402/402 [16:12<00:00,  2.42s/file]\n"
     ]
    }
   ],
   "source": [
    "def process_file(file_path, cfg):\n",
    "    if file_path.endswith('csv.gz'):\n",
    "        df = pd.read_csv(file_path, usecols=cfg.columns_to_extract, compression='gzip')\n",
    "        columns_to_check = ['longitude', 'latitude', 'speed', 'heading']\n",
    "        df = df.dropna(subset=columns_to_check).reset_index(drop=True)\n",
    "        df = dpu.convert_time_format(df, time_column_ori='timestamp', time_column_new='timestamp')\n",
    "        df.drop_duplicates(subset=['mmsi', 'timestamp'], inplace=True)\n",
    "        location_1_polygon = gpd.read_file(cfg.location_1)\n",
    "        location_2_polygon = gpd.read_file(cfg.location_2)\n",
    "        df_to, df_from = dpu.filter_trajs_between(df, location_1_polygon, location_2_polygon, group_column='mmsi', time_column='timestamp')\n",
    "\n",
    "        return (df_to, df_from)\n",
    "\n",
    "\n",
    "def process_file_wrapper(args):\n",
    "    return process_file(*args)\n",
    "\n",
    "\n",
    "cfg = EasyDict(get_config('./cfg/route_extract_cfg.yaml'))\n",
    "file_paths = get_all_files(cfg.raw_data_dir)\n",
    "\n",
    "location_1_name = cfg.location_1.split('/')[-1].split('.')[0]\n",
    "location_2_name = cfg.location_2.split('/')[-1].split('.')[0]\n",
    "traj_from = pd.DataFrame(columns=cfg.columns_to_extract)\n",
    "traj_to = pd.DataFrame(columns=cfg.columns_to_extract)\n",
    "\n",
    "with Pool(processes=16) as pool:\n",
    "    # Use tqdm to display progress\n",
    "    with tqdm(total=len(file_paths), desc=\"Processing files\", unit=\"file\") as pbar:\n",
    "        # Define the partial function with fixed arguments\n",
    "        partial_process_file = partial(process_file, cfg=cfg)\n",
    "        \n",
    "        # Use imap_unordered to process files in parallel and get results asynchronously\n",
    "        results = pool.imap_unordered(partial_process_file, file_paths)\n",
    "\n",
    "        # Iterate over results and update progress bar\n",
    "        for df_to, df_from in results:\n",
    "            traj_from = pd.concat([traj_from, df_from], ignore_index=True)\n",
    "            traj_to = pd.concat([traj_to, df_to], ignore_index=True)\n",
    "            pbar.update(1)\n",
    "\n",
    "traj_from.to_csv(f'{cfg.save_dir}{location_1_name}to{location_2_name}.csv.gz', index=False, compression='gzip')\n",
    "traj_to.to_csv(f'{cfg.save_dir}{location_2_name}to{location_1_name}.csv.gz', index=False, compression='gzip')\n"
   ]
  },
  {
   "cell_type": "code",
   "execution_count": 5,
   "metadata": {},
   "outputs": [
    {
     "data": {
      "text/plain": [
       "<folium.features.GeoJson at 0x7fe9403d1ff0>"
      ]
     },
     "execution_count": 5,
     "metadata": {},
     "output_type": "execute_result"
    }
   ],
   "source": [
    "import folium\n",
    "import utils.visualize_utils as vis\n",
    "cfg = EasyDict(get_config('./cfg/route_extract_cfg.yaml'))\n",
    "location_1_name = cfg.location_1.split('/')[-1].split('.')[0]\n",
    "location_2_name = cfg.location_2.split('/')[-1].split('.')[0]\n",
    "traj_from = pd.read_csv(f'{cfg.save_dir}{location_1_name}to{location_2_name}.csv.gz', compression='gzip')\n",
    "traj_to = pd.read_csv(f'{cfg.save_dir}{location_2_name}to{location_1_name}.csv.gz', compression='gzip')\n",
    "m_to = vis.visulize_trajs(traj_to, mode='lines', heatmap=False, save=False)\n",
    "m_from = vis.visulize_trajs(traj_to, mode='lines', heatmap=False, save=False)\n",
    "location_1_polygon = gpd.read_file(cfg.location_1)\n",
    "location_2_polygon = gpd.read_file(cfg.location_2)\n",
    "folium.GeoJson(location_1_polygon).add_to(m_to).add_to(m_from)\n",
    "folium.GeoJson(location_2_polygon).add_to(m_to).add_to(m_from)"
   ]
  }
 ],
 "metadata": {
  "kernelspec": {
   "display_name": "rapids-23.10",
   "language": "python",
   "name": "python3"
  },
  "language_info": {
   "codemirror_mode": {
    "name": "ipython",
    "version": 3
   },
   "file_extension": ".py",
   "mimetype": "text/x-python",
   "name": "python",
   "nbconvert_exporter": "python",
   "pygments_lexer": "ipython3",
   "version": "3.10.13"
  }
 },
 "nbformat": 4,
 "nbformat_minor": 2
}
