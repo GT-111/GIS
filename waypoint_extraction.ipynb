{
 "cells": [
  {
   "cell_type": "code",
   "execution_count": null,
   "metadata": {},
   "outputs": [],
   "source": [
    "from easydict import EasyDict as edict\n",
    "import numpy as np\n",
    "import pandas as pd\n",
    "import utils.waypoint_extract_utils as weu\n",
    "import utils.data_preprocess_utils as dpu\n",
    "import utils.visualize_utils as vu"
   ]
  },
  {
   "cell_type": "code",
   "execution_count": null,
   "metadata": {},
   "outputs": [],
   "source": [
    "cfg = edict(dpu.get_config('/root/GIS/cfg/waypoint_extraction_cfg.yaml'))\n",
    "data_dir = cfg.data_dir\n",
    "files = dpu.get_all_files(data_dir)\n",
    "def get_subset(files_path, number):\n",
    "    idx = np.random.choice(len(files_path), number, replace=False)\n",
    "    # return a concated dataframe\n",
    "    return pd.concat([pd.read_feather(files_path[i]) for i in idx], ignore_index=True)\n",
    "df = get_subset(files, 6)\n",
    "df = df.sort_values(by=['MMSI', 'time']).reset_index(drop=True)\n",
    "simplified_trajs = df.groupby('MMSI').apply(weu.simplify_traj).reset_index(drop=True)\n",
    "# maneuver_points = weu.dicover_maneuver_points(df, cfg)\n",
    "# total_feature_points = pd.concat([simplified_trajs, maneuver_points], ignore_index=True).reset_index(drop=True)\n",
    "total_feature_points = simplified_trajs\n",
    "print('total_feature_points', total_feature_points.shape)\n",
    "total_feature_points = total_feature_points.drop_duplicates(subset=['MMSI', 'time']).reset_index(drop=True)\n",
    "print('total_feature_points', total_feature_points.shape)\n",
    "feature_points_labels = weu.clustering_hdbscan(total_feature_points, cfg)\n",
    "total_feature_points['cluster_label'] = feature_points_labels\n",
    "total_feature_points.to_feather('/root/autodl-tmp/data_processed/wp.feather')"
   ]
  }
 ],
 "metadata": {
  "kernelspec": {
   "display_name": "rapids-23.10",
   "language": "python",
   "name": "python3"
  },
  "language_info": {
   "codemirror_mode": {
    "name": "ipython",
    "version": 3
   },
   "file_extension": ".py",
   "mimetype": "text/x-python",
   "name": "python",
   "nbconvert_exporter": "python",
   "pygments_lexer": "ipython3",
   "version": "3.10.13"
  }
 },
 "nbformat": 4,
 "nbformat_minor": 2
}
