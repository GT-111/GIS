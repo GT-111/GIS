{
 "cells": [
  {
   "cell_type": "code",
   "execution_count": null,
   "metadata": {},
   "outputs": [],
   "source": [
    "import pandas as pd\n",
    "import numpy as np\n",
    "import utils.geohash_utils as ghu\n",
    "from easydict import EasyDict\n",
    "import utils.data_preprocess_utils as dpu\n",
    "cfg = EasyDict(dpu.get_config('./cfg/network_extract_cfg.yaml'))"
   ]
  },
  {
   "cell_type": "code",
   "execution_count": null,
   "metadata": {},
   "outputs": [],
   "source": [
    "df = pd.read_feather(cfg.wp_dir)"
   ]
  },
  {
   "cell_type": "code",
   "execution_count": null,
   "metadata": {},
   "outputs": [],
   "source": [
    "precision_max = cfg.precision_max\n",
    "bounds = cfg.bounds\n",
    "tree = ghu.QuadTree(bounds, precision_max)\n",
    "tree.init_subgrids(tree.root)\n",
    "tree.init_ship_dic_df(df)\n",
    "tree.init_ship_cnt()\n",
    "tree.filter_nodes(1)\n",
    "leaf_nodes = tree.get_leaf_nodes()\n",
    "leaf_nodes = ghu.assign_label(leaf_nodes)\n",
    "filtered_grids_map = ghu.visualize_node_list(df, leaf_nodes, color='red')\n",
    "waypoints = ghu.leaf_nodes2waypoints(leaf_nodes)\n",
    "convex_hulls = ghu.get_convex_hulls(waypoints)\n",
    "convex_hulls.to_feather(cfg.convex_hull_save_dir)"
   ]
  },
  {
   "cell_type": "code",
   "execution_count": null,
   "metadata": {},
   "outputs": [],
   "source": [
    "data_dir = cfg.data_dir\n",
    "files = dpu.get_all_files(data_dir)\n",
    "def get_subset(files_path, number):\n",
    "    idx = np.random.choice(len(files_path), number, replace=False)\n",
    "    # return a concated dataframe\n",
    "    return pd.concat([pd.read_feather(files_path[i]) for i in idx], ignore_index=True)\n",
    "df = get_subset(files, 25)\n",
    "df = df.sort_values(by=['MMSI', 'time']).reset_index(drop=True)\n",
    "adjacency_matrix = ghu.get_adjacency_matrix(convex_hulls, df)"
   ]
  },
  {
   "cell_type": "code",
   "execution_count": null,
   "metadata": {},
   "outputs": [],
   "source": [
    "adjacency_matrix_bk = adjacency_matrix.copy()"
   ]
  },
  {
   "cell_type": "code",
   "execution_count": null,
   "metadata": {},
   "outputs": [],
   "source": [
    "adjacency_matrix = adjacency_matrix_bk.copy()"
   ]
  },
  {
   "cell_type": "code",
   "execution_count": null,
   "metadata": {},
   "outputs": [],
   "source": [
    "LAT_MAX, LAT_MIN, LON_MAX, LON_MIN = (53.9884, 9.7614, 56.4261, 15.1117)\n",
    "import folium\n",
    "import geopandas as gpd\n",
    "from shapely.geometry import Polygon\n",
    "from folium import Popup\n",
    "cfg = EasyDict(dpu.get_config('./cfg/network_extract_cfg.yaml'))\n",
    "gdf = gpd.read_feather(cfg.convex_hull_save_dir)\n",
    "waypoints = np.array(gdf['centroid'].apply(lambda p: (p.y, p.x)).to_list())\n",
    "m = folium.Map(location=[(LAT_MAX + LAT_MIN) / 2, (LON_MAX + LON_MIN) / 2], zoom_start=8, tiles='OpenStreetMap')\n",
    "connection_cnt = np.zeros((waypoints.shape[0],))\n",
    "for i in range(waypoints.shape[0]):\n",
    "\n",
    "    folium.Circle(\n",
    "        location=[waypoints[i][0], waypoints[i][1]],\n",
    "        radius=5,\n",
    "        color='black',\n",
    "        fill=True,\n",
    "        fill_opacity=0.2\n",
    "    ).add_to(m)\n",
    "\n",
    "for index, row in gdf.iterrows():\n",
    "    if isinstance(row['geometry'], Polygon):\n",
    "        hull = folium.GeoJson(row['geometry'].__geo_interface__, name='convex_hull')\n",
    "        Popup('wp' + str(row['label'])).add_to(hull)\n",
    "        hull.add_to(m)\n",
    "\n",
    "edge_list, adjacency_matrix, distance_matrix = ghu.get_edges_list(convex_hulls, adjacency_matrix, flow_threshold=6, dis_threshold=34)\n",
    "np.save(cfg.adjacency_matrix_save_dir, adjacency_matrix)\n",
    "np.save(cfg.distance_matrix_save_dir, distance_matrix)\n",
    "print('edge_list', len(edge_list))\n",
    "folium.PolyLine(\n",
    "    locations=edge_list,\n",
    "    color=\"black\",\n",
    "    weight=5,\n",
    "    opacity=0.7,\n",
    ").add_to(m)\n",
    "m"
   ]
  }
 ],
 "metadata": {
  "kernelspec": {
   "display_name": "rapids-23.10",
   "language": "python",
   "name": "python3"
  },
  "language_info": {
   "codemirror_mode": {
    "name": "ipython",
    "version": 3
   },
   "file_extension": ".py",
   "mimetype": "text/x-python",
   "name": "python",
   "nbconvert_exporter": "python",
   "pygments_lexer": "ipython3",
   "version": "3.10.13"
  }
 },
 "nbformat": 4,
 "nbformat_minor": 2
}
