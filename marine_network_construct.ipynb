{
 "cells": [
  {
   "cell_type": "code",
   "execution_count": 3,
   "metadata": {},
   "outputs": [],
   "source": [
    "import pandas as pd\n",
    "import numpy as np\n",
    "import utils.geohash_utils as ghu\n",
    "#visualize\n",
    "import folium\n",
    "from branca.colormap import linear"
   ]
  },
  {
   "cell_type": "code",
   "execution_count": null,
   "metadata": {},
   "outputs": [],
   "source": [
    "df = pd.read_feather('/root/autodl-tmp/data_processed/wp.feather')"
   ]
  },
  {
   "cell_type": "code",
   "execution_count": null,
   "metadata": {},
   "outputs": [],
   "source": [
    "precision_max = 5\n",
    "bounds = (53.9884, 9.7614, 56.4261, 15.1117)\n",
    "tree = ghu.QuadTree(bounds, precision_max)\n",
    "tree.init_subgrids(tree.root)\n",
    "tree.init_ship_dic_df(df)\n",
    "tree.init_ship_cnt()\n",
    "tree.filter_nodes(1)\n",
    "leaf_nodes = tree.get_leaf_nodes()\n",
    "leaf_nodes = ghu.assign_label(leaf_nodes)\n",
    "filtered_grids_map = ghu.visualize_node_list(df, leaf_nodes, color='red')\n",
    "waypoints = ghu.leaf_nodes2waypoints(leaf_nodes)\n",
    "convex_hulls = ghu.get_convex_hulls(waypoints)\n",
    "convex_hulls.to_file('convex_hull.geojson', driver='GeoJSON')\n",
    "df = pd.read_feather('*')\n",
    "adjacency_matrix = ghu.get_adjacency_matrix(convex_hulls, df)\n",
    "edges_list, adjacency_matrix = ghu.get_edges_list(convex_hulls, adjacency_matrix, flow_threshold=2, dis_threshold=24)"
   ]
  },
  {
   "cell_type": "code",
   "execution_count": null,
   "metadata": {},
   "outputs": [],
   "source": [
    "edge_list = []\n",
    "LAT_MAX, LAT_MIN, LON_MAX, LON_MIN = (53.9884, 9.7614, 56.4261, 15.1117)\n",
    "import folium\n",
    "\n",
    "m = folium.Map(location=[(LAT_MAX + LAT_MIN) / 2, (LON_MAX + LON_MIN) / 2], zoom_start=8, tiles='OpenStreetMap')\n",
    "connection_cnt = np.zeros((waypoints.shape[0],))\n",
    "for i in range(waypoints.shape[0]):\n",
    "\n",
    "    folium.Circle(\n",
    "        location=[waypoints[i][0], waypoints[i][1]],\n",
    "        radius=5,\n",
    "        color='black',\n",
    "        fill=True,\n",
    "        fill_opacity=0.2\n",
    "    ).add_to(m)\n",
    "\n",
    "for index, row in gdf.iterrows():\n",
    "    if isinstance(row['geometry'], Polygon):\n",
    "        hull = folium.GeoJson(row['geometry'].__geo_interface__, name='convex_hull')\n",
    "        Popup('wp' + str(row['label'])).add_to(hull)\n",
    "        hull.add_to(m)\n",
    "\n",
    "\n",
    "folium.PolyLine(\n",
    "    locations=edge_list,\n",
    "    color=\"black\",\n",
    "    weight=5,\n",
    "    opacity=0.7,\n",
    ").add_to(m)\n",
    "m"
   ]
  }
 ],
 "metadata": {
  "kernelspec": {
   "display_name": "rapids-23.10",
   "language": "python",
   "name": "python3"
  },
  "language_info": {
   "codemirror_mode": {
    "name": "ipython",
    "version": 3
   },
   "file_extension": ".py",
   "mimetype": "text/x-python",
   "name": "python",
   "nbconvert_exporter": "python",
   "pygments_lexer": "ipython3",
   "version": "3.10.13"
  }
 },
 "nbformat": 4,
 "nbformat_minor": 2
}
