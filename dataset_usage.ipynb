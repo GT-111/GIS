{
 "cells": [
  {
   "cell_type": "code",
   "execution_count": null,
   "metadata": {},
   "outputs": [],
   "source": [
    "from utils.data_preprocess_utils import get_config\n",
    "from easydict import EasyDict\n",
    "from utils.dataset import DenmarkDataset"
   ]
  },
  {
   "cell_type": "code",
   "execution_count": null,
   "metadata": {},
   "outputs": [],
   "source": [
    "cfg = EasyDict(get_config('./cfg/dataset_cfg.yaml'))\n",
    "dataset = DenmarkDataset(cfg)\n",
    "\n",
    "day_data = dataset._get_day_data('2019-01-01')\n",
    "range_data = dataset.get_data_by_range('2019-01-01', '2019-03-10')"
   ]
  },
  {
   "cell_type": "code",
   "execution_count": 50,
   "metadata": {},
   "outputs": [
    {
     "name": "stdout",
     "output_type": "stream",
     "text": [
      "dict_keys(['Sailing', 'Pleasure', 'Cargo', 'Fishing', 'Passenger', 'Tanker', 'Tug', 'Other', 'Total'])\n",
      "(4, 103, 4)\n"
     ]
    }
   ],
   "source": [
    "print(range_data.keys())\n",
    "total_VTF = day_data['Total']\n",
    "print(total_VTF.shape)"
   ]
  },
  {
   "cell_type": "code",
   "execution_count": null,
   "metadata": {},
   "outputs": [],
   "source": [
    "import geopandas as gpd\n",
    "import numpy as np\n",
    "import pandas as pd\n",
    "gdf = gpd.read_file(\"/root/GIS/waypoints/convex_hull.geojson\") # waypoint hulls\n",
    "gdf['label'] = gdf.reset_index().index\n",
    "gdf['centroid'] = gdf['geometry'].centroid.to_crs(crs='EPSG:4326')\n",
    "N = gdf['centroid'].shape[0]\n",
    "\n",
    "df_total = pd.DataFrame()\n",
    "data = np.load('/root/GIS/ais_flow/2019-02-03.npy',allow_pickle=True).item()\n",
    "data_total = data['Total']\n",
    "\n",
    "for i in range(N+1):\n",
    "        df_total = df_total.copy()\n",
    "        df_total[i] = [data_total[v0][i] for v0 in range(4)]\n",
    "        # df_total = df_total.rename(index=dict(zip(df_total.index, idx)))\n",
    "\n",
    "df_total"
   ]
  },
  {
   "cell_type": "code",
   "execution_count": null,
   "metadata": {},
   "outputs": [],
   "source": [
    "import matplotlib.pyplot as plt\n",
    "from statsmodels.tsa.stattools import acf, pacf\n",
    "\n",
    "time_series_node1_flow = total_VTF[:, 3, 1]\n",
    "acf_values = acf(time_series_node1_flow, nlags=50)\n",
    "pacf_values = pacf(time_series_node1_flow, nlags=50)\n",
    "plt.figure(figsize=(14, 5))\n",
    "plt.subplot(121)\n",
    "plt.stem(acf_values)\n",
    "plt.title('Autocorrelation Function (ACF)')\n",
    "plt.xlabel('Lag')\n",
    "plt.ylabel('Autocorrelation')\n",
    "plt.subplot(122)\n",
    "plt.stem(pacf_values)\n",
    "plt.title('Partial Autocorrelation Function (PACF)')\n",
    "plt.xlabel('Lag')\n",
    "plt.ylabel('Partial Autocorrelation')\n",
    "plt.show()"
   ]
  },
  {
   "cell_type": "code",
   "execution_count": null,
   "metadata": {},
   "outputs": [],
   "source": [
    "import numpy as np\n",
    "import matplotlib.pyplot as plt\n",
    "import seaborn as sns\n",
    "import tensorly as tl\n",
    "from tensorly.decomposition import non_negative_parafac\n",
    "from scipy.stats import pearsonr\n",
    "\n",
    "np.random.seed(42)\n",
    "tensor_data = total_VTF\n",
    "flow_in = tensor_data[:, :, 1]\n",
    "\n",
    "rank = 5  \n",
    "weights, factors = non_negative_parafac(tl.tensor(flow_in), rank=rank, n_iter_max=200)\n",
    "# print(factors)\n",
    "# 提取分解后的因子\n",
    "factor_time, factor_nodes = factors\n",
    "\n",
    "plt.figure(figsize=(12, 4))\n",
    "\n",
    "plt.subplot(1, 2, 1)\n",
    "plt.plot(factor_time)\n",
    "plt.title('Factor: Time')\n",
    "\n",
    "plt.subplot(1, 2, 2)\n",
    "plt.plot(factor_nodes)\n",
    "plt.title('Factor: Nodes')\n",
    "plt.show()\n"
   ]
  },
  {
   "cell_type": "code",
   "execution_count": null,
   "metadata": {},
   "outputs": [],
   "source": [
    "import matplotlib.pyplot as plt\n",
    "import geopandas as gpd\n",
    "import folium\n",
    "print(factor_nodes.shape)\n",
    "dim1 = factor_nodes[:, 1]\n",
    "k = 10\n",
    "topk_indices = np.argsort(dim1)[-k:]\n",
    "gdf = gpd.read_file('/root/autodl-tmp/waypoints/convex_hull.geojson')\n",
    "gdf['label'] = gdf.reset_index().index\n",
    "gdf['centroid'] = gdf['geometry'].centroid.to_crs(crs='EPSG:4326')\n",
    "\n",
    "m = folium.Map(location=[55.6761, 12.5683], zoom_start=10)\n",
    "for index in topk_indices:\n",
    "    if index == 0:\n",
    "        continue\n",
    "    index = index+1\n",
    "    centroid = gdf[gdf['label'] == index]['centroid']\n",
    "    folium.CircleMarker([centroid.y, centroid.x]).add_to(m)\n",
    "m"
   ]
  }
 ],
 "metadata": {
  "kernelspec": {
   "display_name": "rapids-23.10",
   "language": "python",
   "name": "python3"
  },
  "language_info": {
   "codemirror_mode": {
    "name": "ipython",
    "version": 3
   },
   "file_extension": ".py",
   "mimetype": "text/x-python",
   "name": "python",
   "nbconvert_exporter": "python",
   "pygments_lexer": "ipython3",
   "version": "3.10.13"
  }
 },
 "nbformat": 4,
 "nbformat_minor": 2
}
