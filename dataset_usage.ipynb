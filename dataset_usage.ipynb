{
 "cells": [
  {
   "cell_type": "code",
   "execution_count": 2,
   "metadata": {},
   "outputs": [],
   "source": [
    "from utils.data_preprocess_utils import get_config\n",
    "from easydict import EasyDict\n",
    "from utils.dataset_utils import DenmarkDataset"
   ]
  },
  {
   "cell_type": "code",
   "execution_count": null,
   "metadata": {},
   "outputs": [],
   "source": [
    "cfg = EasyDict(get_config('./cfg/dataset_cfg.yaml'))\n",
    "dataset = DenmarkDataset(cfg)\n",
    "\n",
    "day_data = dataset._get_day_data('2019-01-01')\n",
    "range_data = dataset.get_data_by_range('2019-01-01', '2019-03-10')"
   ]
  }
 ],
 "metadata": {
  "kernelspec": {
   "display_name": "rapids-23.10",
   "language": "python",
   "name": "python3"
  },
  "language_info": {
   "codemirror_mode": {
    "name": "ipython",
    "version": 3
   },
   "file_extension": ".py",
   "mimetype": "text/x-python",
   "name": "python",
   "nbconvert_exporter": "python",
   "pygments_lexer": "ipython3",
   "version": "3.10.13"
  }
 },
 "nbformat": 4,
 "nbformat_minor": 2
}
