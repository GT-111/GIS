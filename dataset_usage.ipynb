{
 "cells": [
  {
   "cell_type": "code",
   "execution_count": 1,
   "metadata": {},
   "outputs": [],
   "source": [
    "from utils.data_preprocess_utils import get_config, get_all_files, get_all_subdirectories\n",
    "from easydict import EasyDict\n",
    "from utils.dataset import DenmarkDataset"
   ]
  },
  {
   "cell_type": "code",
   "execution_count": 2,
   "metadata": {},
   "outputs": [
    {
     "name": "stdout",
     "output_type": "stream",
     "text": [
      "access one day data with time interval 4H\n",
      "day_data for Total shape -> (interval, wp, features) (6, 92, 4)\n",
      "\n",
      "access data from 2019-01-01 to 2019-03-31 with time interval 4H\n",
      "range_data_dic for Total shape -> (interval, wp, features) (540, 92, 4)\n",
      "\n",
      "convert data_dic to data_arr\n",
      "range_data_arr shape -> (day, interval, wp, vessel_types, features): (90, 6, 92, 5, 4)\n",
      "\n",
      "access data of specific vessel type\n",
      "range_data_arr_tanker shape -> (day, interval, wp, features): (90, 6, 92, 4)\n",
      "\n"
     ]
    }
   ],
   "source": [
    "cfg = EasyDict(get_config('./cfg/dataset_cfg.yaml'))\n",
    "dataset = DenmarkDataset(cfg)\n",
    "# data_dic is in the format of {data_type: data_array of specific type}, data_array is in the format of (num_samples, num_waypoints, num_features)\n",
    "print(f'access one day data with time interval 4H')\n",
    "day_data_dic = dataset._get_day_data(day='2019-01-01', time_interval='4H')\n",
    "print(f'day_data for Total shape -> (interval, wp, features) {day_data_dic[\"Total\"].shape}\\n')\n",
    "\n",
    "print(f'access data from 2019-01-01 to 2019-03-31 with time interval 4H')\n",
    "range_data_dic = dataset.get_data_by_range(start_date='2019-01-01', end_date='2019-03-31', time_interval='4H')\n",
    "print(f'range_data_dic for Total shape -> (interval, wp, features) {range_data_dic[\"Total\"].shape}\\n')\n",
    "\n",
    "print(f'convert data_dic to data_arr')\n",
    "vessel_types = ['Passenger', 'Tanker', 'Cargo', 'Other', 'Total']\n",
    "range_data_arr, type_index_dic = dataset.dic2array(result_dic=range_data_dic, vessel_types=vessel_types, time_interval='4H')\n",
    "print(f'range_data_arr shape -> (day, interval, wp, vessel_types, features): {range_data_arr.shape}\\n')\n",
    "\n",
    "print(f'access data of specific vessel type')\n",
    "range_data_arr_tanker = range_data_arr[:, :, :, type_index_dic['Tanker'], :]\n",
    "print(f'range_data_arr_tanker shape -> (day, interval, wp, features): {range_data_arr_tanker.shape}\\n')"
   ]
  },
  {
   "cell_type": "code",
   "execution_count": 3,
   "metadata": {},
   "outputs": [],
   "source": [
    "dataset.convert2PEMS()"
   ]
  }
 ],
 "metadata": {
  "kernelspec": {
   "display_name": "rapids-23.10",
   "language": "python",
   "name": "python3"
  },
  "language_info": {
   "codemirror_mode": {
    "name": "ipython",
    "version": 3
   },
   "file_extension": ".py",
   "mimetype": "text/x-python",
   "name": "python",
   "nbconvert_exporter": "python",
   "pygments_lexer": "ipython3",
   "version": "3.10.13"
  }
 },
 "nbformat": 4,
 "nbformat_minor": 2
}
