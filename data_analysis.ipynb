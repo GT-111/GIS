{
 "cells": [
  {
   "cell_type": "code",
   "execution_count": null,
   "metadata": {},
   "outputs": [],
   "source": [
    "from utils.data_preprocess_utils import get_config\n",
    "from easydict import EasyDict\n",
    "from utils.dataset import DenmarkDataset\n",
    "import numpy as np\n",
    "import tensorly as tl\n",
    "from tensorly.decomposition import non_negative_parafac, parafac\n",
    "import matplotlib.pyplot as plt"
   ]
  },
  {
   "cell_type": "code",
   "execution_count": null,
   "metadata": {},
   "outputs": [],
   "source": [
    "dataset_cfg = EasyDict(get_config('./cfg/dataset_cfg.yaml'))\n",
    "dataset = DenmarkDataset(dataset_cfg)\n",
    "\n",
    "range_data_dic = dataset.get_data_by_range(start_date='2019-01-01', end_date='2019-03-31', time_interval='6H')\n",
    "vessel_types = ['Passenger', 'Tanker', 'Cargo', 'Other', 'Total']\n",
    "range_data_arr, _ = dataset.dic2array(result_dic=range_data_dic, vessel_types=vessel_types, time_interval='6H')\n",
    "print(range_data_arr.shape)\n",
    "range_data_arr = np.moveaxis(range_data_arr, -1, 0)\n",
    "print(range_data_arr.shape)\n",
    "arr_num = range_data_arr[0][:,:, 1:, :-1]\n",
    "arr_flow_in = range_data_arr[1][:,:, 1:, :-1]\n",
    "arr_flow_out = range_data_arr[2][:,:, 1:, :-1]\n",
    "arr_flow_speed = range_data_arr[3][:,:, 1:, :-1]"
   ]
  },
  {
   "cell_type": "code",
   "execution_count": null,
   "metadata": {},
   "outputs": [],
   "source": [
    "data_analysis_cfg = EasyDict(get_config('./cfg/data_analysis_cfg.yaml'))\n",
    "from utils.data_analysis_utils import plot_factor\n",
    "\n",
    "# Assuming arr_num and data_analysis_cfg are defined\n",
    "plot_factor(arr_flow_in, data_analysis_cfg, title='flow_in')\n",
    "plot_factor(arr_flow_out, data_analysis_cfg, title='flow_out')"
   ]
  }
 ],
 "metadata": {
  "kernelspec": {
   "display_name": "rapids-23.10",
   "language": "python",
   "name": "python3"
  },
  "language_info": {
   "codemirror_mode": {
    "name": "ipython",
    "version": 3
   },
   "file_extension": ".py",
   "mimetype": "text/x-python",
   "name": "python",
   "nbconvert_exporter": "python",
   "pygments_lexer": "ipython3",
   "version": "3.10.13"
  }
 },
 "nbformat": 4,
 "nbformat_minor": 2
}
