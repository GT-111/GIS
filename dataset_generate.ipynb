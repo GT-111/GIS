{
 "cells": [
  {
   "cell_type": "code",
   "execution_count": null,
   "metadata": {},
   "outputs": [],
   "source": [
    "import numpy as np\n",
    "import numpy as np\n",
    "import pandas as pd\n",
    "from utils.data_preprocess_utils import get_config\n",
    "import utils.dataset_generate_utils as gen\n",
    "import utils.data_preprocess_utils as pre\n",
    "import warnings\n",
    "import pandas as pd\n",
    "from easydict import EasyDict\n",
    "from concurrent.futures import ProcessPoolExecutor, as_completed\n",
    "from tqdm import tqdm\n",
    "# ignore warnings\n",
    "warnings.filterwarnings(\"ignore\")"
   ]
  },
  {
   "cell_type": "code",
   "execution_count": null,
   "metadata": {},
   "outputs": [],
   "source": [
    "def process_day(day):\n",
    "    try:\n",
    "        day_str = str(day).split(' ')[0]\n",
    "        df = pd.read_feather(files_dict[day_str])\n",
    "        df.sort_values(by=['MMSI', 'time'], inplace=True)\n",
    "        df['inout'] = 0\n",
    "        df['label'] = -1\n",
    "        df = df.groupby('MMSI').apply(gen.get_traj_point_type, cfg)\n",
    "        day_dic = gen.generate_dataset(day, cfg, df)\n",
    "        file_name = cfg.out_dir + day_str + '.npy'\n",
    "        np.save(file_name, day_dic)\n",
    "    except Exception as e:\n",
    "        print(f\"Error processing day {day}: {e}\")\n",
    "    \n",
    "\n",
    "Q1 = pd.date_range('2019-01-01', periods=90, freq='1D')\n",
    "cfg = EasyDict(get_config('./cfg/dataset_generate_cfg.yaml'))\n",
    "files = pre.get_all_files(cfg.in_dir)\n",
    "files_dict = pre.files2dict(files)\n",
    "with ProcessPoolExecutor(max_workers=8) as executor:\n",
    "    # Create a list of futures for each day\n",
    "    futures = [executor.submit(process_day, day) for day in Q1]\n",
    "\n",
    "    # Display progress using tqdm\n",
    "    for _ in tqdm(as_completed(futures), total=len(futures)):\n",
    "        pass  # Do nothing here as we are using tqdm for progress display\n",
    "\n",
    "# Ensure all tasks are completed\n",
    "for future in futures:\n",
    "    future.result()"
   ]
  }
 ],
 "metadata": {
  "kernelspec": {
   "display_name": "rapids-23.10",
   "language": "python",
   "name": "python3"
  },
  "language_info": {
   "codemirror_mode": {
    "name": "ipython",
    "version": 3
   },
   "file_extension": ".py",
   "mimetype": "text/x-python",
   "name": "python",
   "nbconvert_exporter": "python",
   "pygments_lexer": "ipython3",
   "version": "3.10.13"
  }
 },
 "nbformat": 4,
 "nbformat_minor": 2
}
